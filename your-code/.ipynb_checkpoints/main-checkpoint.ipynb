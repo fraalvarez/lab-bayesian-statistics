{
 "cells": [
  {
   "cell_type": "markdown",
   "metadata": {},
   "source": [
    "# Intro to Bayesian Statistics Lab\n",
    "\n",
    "Complete the following set of exercises to solidify your knowledge of Bayesian statistics and Bayesian data analysis."
   ]
  },
  {
   "cell_type": "code",
   "execution_count": 5,
   "metadata": {},
   "outputs": [],
   "source": [
    "from IPython.core.interactiveshell import InteractiveShell\n",
    "InteractiveShell.ast_node_interactivity = 'all'\n",
    "\n",
    "import pandas as pd\n",
    "import numpy as np\n",
    "import matplotlib.pyplot as plt"
   ]
  },
  {
   "cell_type": "markdown",
   "metadata": {},
   "source": [
    "## 1. Cookie Problem\n",
    "\n",
    "Suppose we have two bowls of cookies. Bowl 1 contains 30 vanilla cookies and 10 chocolate cookies. Bowl 2 contains 20 of each. You randomly pick one cookie out of one of the bowls, and it is vanilla. Use Bayes Theorem to calculate the probability that the vanilla cookie you picked came from Bowl 1?"
   ]
  },
  {
   "cell_type": "code",
   "execution_count": 6,
   "metadata": {},
   "outputs": [
    {
     "name": "stdout",
     "output_type": "stream",
     "text": [
      "Bowl 1: ['c', 'c', 'c', 'c', 'c', 'c', 'c', 'c', 'c', 'c', 'v', 'v', 'v', 'v', 'v', 'v', 'v', 'v', 'v', 'v', 'v', 'v', 'v', 'v', 'v', 'v', 'v', 'v', 'v', 'v', 'v', 'v', 'v', 'v', 'v', 'v', 'v', 'v', 'v', 'v']\n",
      "Bowl 2: ['c', 'v', 'c', 'v', 'c', 'v', 'c', 'v', 'c', 'v', 'c', 'v', 'c', 'v', 'c', 'v', 'c', 'v', 'c', 'v', 'c', 'v', 'c', 'v', 'c', 'v', 'c', 'v', 'c', 'v', 'c', 'v', 'c', 'v', 'c', 'v', 'c', 'v', 'c', 'v']\n"
     ]
    }
   ],
   "source": [
    "bowl_1 = []\n",
    "bowl_2 = []\n",
    "\n",
    "for i in range(40):\n",
    "    if i < 10:\n",
    "        bowl_1.append('c')\n",
    "    else:\n",
    "        bowl_1.append('v')\n",
    "    \n",
    "for i in range(20):\n",
    "    bowl_2.append('c')\n",
    "    bowl_2.append('v')\n",
    "    \n",
    "print(f'Bowl 1: {bowl_1}')\n",
    "print(f'Bowl 2: {bowl_2}')"
   ]
  },
  {
   "cell_type": "markdown",
   "metadata": {},
   "source": [
    "- bowl_1 = 30 vanilla + 10 chocolate \n",
    "- bowl_2 = 20 vanilla + 20 chocolate \n",
    "\n",
    "### Probabilities\n",
    "    * P(bowl_1) = 1/2 = 0.5\n",
    "    * P(bowl_2) = 1/2 = 0.5\n",
    "    \n",
    "    * P(v | bowl_1) = 30/40 = 0.75\n",
    "    * P(c | bowl_1) = 10/40 = 0.25\n",
    "    \n",
    "    * P(v | bowl_2) = 20/40 = 0.5\n",
    "    * P(c | bowl_2) = 20/40 = 0.5"
   ]
  },
  {
   "cell_type": "code",
   "execution_count": 7,
   "metadata": {},
   "outputs": [],
   "source": [
    "def bayes(boxes, likelihoods):\n",
    "    marginal = sum(np.multiply(boxes, likelihoods))\n",
    "    numerator = np.multiply(boxes, likelihoods)\n",
    "    posteriori = np.divide(numerator, marginal)\n",
    "    \n",
    "    return posteriori"
   ]
  },
  {
   "cell_type": "code",
   "execution_count": 11,
   "metadata": {},
   "outputs": [
    {
     "data": {
      "text/plain": [
       "array([0.6, 0.4])"
      ]
     },
     "execution_count": 11,
     "metadata": {},
     "output_type": "execute_result"
    }
   ],
   "source": [
    "boxes = [0.5, 0.5]\n",
    "likelihoods = [0.75, 0.5]\n",
    "\n",
    "bayes(boxes, likelihoods)"
   ]
  },
  {
   "cell_type": "markdown",
   "metadata": {},
   "source": [
    "- The probability it came from box 1 is 60%"
   ]
  },
  {
   "cell_type": "markdown",
   "metadata": {},
   "source": [
    "What is the probability that it came from Bowl 2?"
   ]
  },
  {
   "cell_type": "markdown",
   "metadata": {},
   "source": [
    "- The probability it came from box 2 is 40%"
   ]
  },
  {
   "cell_type": "markdown",
   "metadata": {},
   "source": [
    "What if the cookie you had picked was chocolate? What are the probabilities that the chocolate cookie came from Bowl 1 and Bowl 2 respectively?"
   ]
  },
  {
   "cell_type": "code",
   "execution_count": 12,
   "metadata": {},
   "outputs": [
    {
     "data": {
      "text/plain": [
       "array([0.33333333, 0.66666667])"
      ]
     },
     "execution_count": 12,
     "metadata": {},
     "output_type": "execute_result"
    }
   ],
   "source": [
    "boxes = [0.5, 0.5]\n",
    "likelihoods = [0.25, 0.5]\n",
    "\n",
    "bayes(boxes, likelihoods)"
   ]
  },
  {
   "cell_type": "markdown",
   "metadata": {},
   "source": [
    "- The probability that the chocolate cookie came from box 1 is 33.3333%\n",
    "- The probability that the chocolate cookie came from box 2 is 66.6667%"
   ]
  },
  {
   "cell_type": "markdown",
   "metadata": {},
   "source": [
    "## 2. Candy Problem\n",
    "\n",
    "Suppose you have two bags of candies:\n",
    "\n",
    "- In Bag 1, the mix of colors is:\n",
    "    - Brown - 30%\n",
    "    - Yellow - 20%\n",
    "    - Red - 20%\n",
    "    - Green - 10%\n",
    "    - Orange - 10%\n",
    "    - Tan - 10%\n",
    "    \n",
    "- In Bag 2, the mix of colors is:\n",
    "    - Blue - 24%\n",
    "    - Green - 20%\n",
    "    - Orange - 16%\n",
    "    - Yellow - 14%\n",
    "    - Red - 13%\n",
    "    - Brown - 13%\n",
    "    \n",
    "Not knowing which bag is which, you randomly draw one candy from each bag. One is yellow and one is green. What is the probability that the yellow one came from the Bag 1?\n",
    "\n",
    "*Hint: For the likelihoods, you will need to multiply the probabilities of drawing yellow from one bag and green from the other bag and vice versa.*"
   ]
  },
  {
   "cell_type": "markdown",
   "metadata": {},
   "source": [
    "- bag_1 = 30 brown + 20 yellow + 20 red + 10 green + 10 orange + 10 tan \n",
    "- bag_2 = 24 blue + 20 green + 16 orange + 14 yellow + 13 red + 13 brown \n",
    "\n",
    "### Probabilities\n",
    "    * P(bag_1) = 1/2 = 0.5\n",
    "    * P(bag_2) = 1/2 = 0.5\n",
    "    \n",
    "    * P(brown | bag_1) = 30/100 = 0.30\n",
    "    * P(yellow | bag_1) = 20/100 = 0.20\n",
    "    * P(red | bag_1) = 20/100 = 0.20\n",
    "    * P(green | bag_1) = 10/100 = 0.10\n",
    "    * P(orange | bag_1) = 10/100 = 0.10\n",
    "    * P(tan | bag_1) = 10/100 = 0.10\n",
    "    \n",
    "    * P(blue | bag_2) = 24/100 = 0.24\n",
    "    * P(green | bag_2) = 20/100 = 0.20\n",
    "    * P(orange | bag_2) = 16/100 = 0.16\n",
    "    * P(yellow | bag_2) = 14/100 = 0.14\n",
    "    * P(red | bag_2) = 13/100 = 0.13\n",
    "    * P(brown | bag_2) = 13/100 = 0.13"
   ]
  },
  {
   "cell_type": "code",
   "execution_count": 17,
   "metadata": {
    "scrolled": true
   },
   "outputs": [
    {
     "data": {
      "text/plain": [
       "array([0.74074074, 0.25925926])"
      ]
     },
     "execution_count": 17,
     "metadata": {},
     "output_type": "execute_result"
    }
   ],
   "source": [
    "bags = [0.5, 0.5]\n",
    "likelihoods = [(0.2 * 0.2), (0.1 * 0.14)]\n",
    "\n",
    "bayes(bags, likelihoods)"
   ]
  },
  {
   "cell_type": "markdown",
   "metadata": {},
   "source": [
    "- The probability of drawing one yellow candy from bag 1 and one green candy from box 2 is 74.074%"
   ]
  },
  {
   "cell_type": "markdown",
   "metadata": {},
   "source": [
    "What is the probability that the yellow candy came from Bag 2?"
   ]
  },
  {
   "cell_type": "markdown",
   "metadata": {},
   "source": [
    "- The probability of drawing one yellow candy from bag 2 and one green candy from box 1 is 25.925%"
   ]
  },
  {
   "cell_type": "markdown",
   "metadata": {},
   "source": [
    "What are the probabilities that the green one came from Bag 1 and Bag 2 respectively?"
   ]
  },
  {
   "cell_type": "code",
   "execution_count": 18,
   "metadata": {
    "scrolled": true
   },
   "outputs": [
    {
     "data": {
      "text/plain": [
       "array([0.33333333, 0.66666667])"
      ]
     },
     "execution_count": 18,
     "metadata": {},
     "output_type": "execute_result"
    }
   ],
   "source": [
    "bags = [0.5, 0.5]\n",
    "likelihoods = [0.1, 0.2]\n",
    "\n",
    "bayes(bags, likelihoods)"
   ]
  },
  {
   "cell_type": "markdown",
   "metadata": {},
   "source": [
    "- Probability the green candy came from bag 1 is: 33.3333%\n",
    "- Probability the green candy came from bag 2 is: 66.6667%"
   ]
  },
  {
   "cell_type": "markdown",
   "metadata": {},
   "source": [
    "## 3. Monty Hall Problem\n",
    "\n",
    "Suppose you are a contestant on the popular game show *Let's Make a Deal*. The host of the show (Monty Hall) presents you with three doors - Door A, Door B, and Door C. He tells you that there is a sports car behind one of them and if you choose the correct one, you win the car!\n",
    "\n",
    "You select Door A, but then Monty makes things a little more interesting. He opens Door B to reveal that there is no sports car behind it and asks you if you would like to stick with your choice of Door A or switch your choice to Door C. Given this new information, what are the probabilities of you winning the car if you stick with Door A versus if you switch to Door C?"
   ]
  },
  {
   "cell_type": "code",
   "execution_count": 24,
   "metadata": {
    "scrolled": true
   },
   "outputs": [
    {
     "data": {
      "text/plain": [
       "array([0.33333333, 0.        , 0.66666667])"
      ]
     },
     "execution_count": 24,
     "metadata": {},
     "output_type": "execute_result"
    },
    {
     "data": {
      "text/plain": [
       "array([0.66666667, 0.        , 0.33333333])"
      ]
     },
     "execution_count": 24,
     "metadata": {},
     "output_type": "execute_result"
    }
   ],
   "source": [
    "#Priori\n",
    "#               A    B    C\n",
    "doors =       [1/3, 1/3, 1/3]\n",
    "likelihoods = [1/3, 1/3, 1/3]\n",
    "\n",
    "#I pick door A\n",
    "#Monty has 50% chance of opening door B and 50% chance of opening door C\n",
    "#Monty opens door B as it doesn't have a car, hence P(car | B) = 0\n",
    "\n",
    "#We are left with the two following scenarios:\n",
    "#                 A   B       C\n",
    "doors_2 =       [1/2, 0,     1/2]\n",
    "likelihoods_2 = [1/3, 0, (1/3 + 1/3)]\n",
    "\n",
    "#                     A       B       C\n",
    "doors_3 =       [    1/2,     0,     1/2]\n",
    "likelihoods_3 = [(1/3 + 1/3), 0,     1/3]\n",
    "\n",
    "#\n",
    "\n",
    "bayes(doors_2, likelihoods_2)\n",
    "bayes(doors_3, likelihoods_3)"
   ]
  },
  {
   "cell_type": "markdown",
   "metadata": {},
   "source": [
    "Considering always switching doors we will have the following outcomes given our initial selection:\n",
    "\n",
    "    Scenario #1 for always switching:\n",
    "    1. You choose door A\n",
    "    2. The host opens door B , because the prize is behind door C, and asks if you want to switch.\n",
    "    3. You decide to switch to door C\n",
    "    4. YOU WIN!\n",
    "\n",
    "    Scenario #2 for always switching\n",
    "    1. You choose door B\n",
    "    2. The host opens door C or door A , because the prize is behind door B, and asks if you want to switch.\n",
    "    3. You decide to switch to door A or door C\n",
    "    4. YOU LOSE.\n",
    "\n",
    "    Scenario #3 for always switching\n",
    "    1. You choose door C\n",
    "    2. The host opens door A, because the prize is behind door B, and asks if you want to switch.\n",
    "    3. You decide to switch to door B\n",
    "    4. YOU WIN!\n",
    "    \n",
    "(https://medium.com/swlh/simulate-the-monty-hall-problem-using-python-7b76b943640e)"
   ]
  },
  {
   "cell_type": "code",
   "execution_count": 23,
   "metadata": {},
   "outputs": [
    {
     "data": {
      "text/plain": [
       "array([0.33333333, 0.        , 0.66666667])"
      ]
     },
     "execution_count": 23,
     "metadata": {},
     "output_type": "execute_result"
    }
   ],
   "source": [
    "doors = [1/2, 0, 1/2]\n",
    "likelihoods = [1/3, 0, 2/3]\n",
    "bayes(doors, likelihoods)"
   ]
  },
  {
   "cell_type": "markdown",
   "metadata": {},
   "source": [
    "## 4. Bayesian Analysis \n",
    "\n",
    "Suppose you work for a landscaping company, and they want to advertise their service online. They create an ad and sit back waiting for the money to roll in. On the first day, the ad sends 100 visitors to the site and 14 of them sign up for landscaping services. Create a generative model to come up with the posterior distribution and produce a visualization of what the posterior distribution would look like given the observed data."
   ]
  },
  {
   "cell_type": "code",
   "execution_count": 60,
   "metadata": {},
   "outputs": [],
   "source": [
    "#Create a list of 100,000 randomn samples between 0 and 1\n",
    "n_draws = 100000\n",
    "prior = pd.Series(np.random.uniform(0, 1, size = n_draws))\n",
    "\n",
    "visitors_day_one = 100 \n",
    "purchased_day_one = 14"
   ]
  },
  {
   "cell_type": "code",
   "execution_count": 61,
   "metadata": {},
   "outputs": [
    {
     "data": {
      "text/plain": [
       "0    0.769209\n",
       "1    0.066097\n",
       "2    0.189853\n",
       "3    0.578365\n",
       "4    0.757015\n",
       "dtype: float64"
      ]
     },
     "execution_count": 61,
     "metadata": {},
     "output_type": "execute_result"
    }
   ],
   "source": [
    "prior.head()"
   ]
  },
  {
   "cell_type": "code",
   "execution_count": 62,
   "metadata": {},
   "outputs": [],
   "source": [
    "def generative_model(param):\n",
    "    result = np.random.binomial(visitors_day_one, param)\n",
    "    return result"
   ]
  },
  {
   "cell_type": "code",
   "execution_count": 63,
   "metadata": {},
   "outputs": [],
   "source": [
    "purchased = []\n",
    "\n",
    "for p in prior:\n",
    "    purchased.append(generative_model(p))"
   ]
  },
  {
   "cell_type": "code",
   "execution_count": 64,
   "metadata": {},
   "outputs": [
    {
     "data": {
      "text/plain": [
       "123    0.170254\n",
       "294    0.136012\n",
       "392    0.119231\n",
       "396    0.119722\n",
       "465    0.112658\n",
       "497    0.169602\n",
       "645    0.182637\n",
       "674    0.181372\n",
       "752    0.118504\n",
       "756    0.135949\n",
       "dtype: float64"
      ]
     },
     "execution_count": 64,
     "metadata": {},
     "output_type": "execute_result"
    }
   ],
   "source": [
    "posterior = prior[list(map(lambda x: x == purchased_day_one, purchased))]\n",
    "posterior[:10]"
   ]
  },
  {
   "cell_type": "code",
   "execution_count": 65,
   "metadata": {},
   "outputs": [
    {
     "data": {
      "text/plain": [
       "<Figure size 1152x576 with 0 Axes>"
      ]
     },
     "execution_count": 65,
     "metadata": {},
     "output_type": "execute_result"
    },
    {
     "data": {
      "text/plain": [
       "<matplotlib.axes._subplots.AxesSubplot at 0x28af6817408>"
      ]
     },
     "execution_count": 65,
     "metadata": {},
     "output_type": "execute_result"
    },
    {
     "data": {
      "image/png": "[encoded data removed]",
      "text/plain": [
       "<Figure size 1152x576 with 1 Axes>"
      ]
     },
     "metadata": {},
     "output_type": "display_data"
    }
   ],
   "source": [
    "plt.figure(figsize = (16, 8), facecolor = 'w')\n",
    "posterior.hist()"
   ]
  },
  {
   "cell_type": "markdown",
   "metadata": {},
   "source": [
    "Produce a set of descriptive statistics for the posterior distribution."
   ]
  },
  {
   "cell_type": "code",
   "execution_count": 66,
   "metadata": {},
   "outputs": [
    {
     "data": {
      "text/plain": [
       "count    958.000000\n",
       "mean       0.146665\n",
       "std        0.034427\n",
       "min        0.060319\n",
       "25%        0.121530\n",
       "50%        0.144112\n",
       "75%        0.167786\n",
       "max        0.266183\n",
       "dtype: float64"
      ]
     },
     "execution_count": 66,
     "metadata": {},
     "output_type": "execute_result"
    }
   ],
   "source": [
    "posterior.describe()"
   ]
  },
  {
   "cell_type": "markdown",
   "metadata": {},
   "source": [
    "What is the 90% credible interval range?"
   ]
  },
  {
   "cell_type": "code",
   "execution_count": 67,
   "metadata": {},
   "outputs": [
    {
     "name": "stdout",
     "output_type": "stream",
     "text": [
      "( 0.0972408086886612 ,  0.2095024920739451 )\n"
     ]
    }
   ],
   "source": [
    "# Intervalo de confianza del 90%\n",
    "print('(',posterior.quantile(0.05), ', ', posterior.quantile(0.95), ')')"
   ]
  },
  {
   "cell_type": "markdown",
   "metadata": {},
   "source": [
    "What is the Maximum Likelihood Estimate?"
   ]
  },
  {
   "cell_type": "code",
   "execution_count": 68,
   "metadata": {},
   "outputs": [
    {
     "name": "stdout",
     "output_type": "stream",
     "text": [
      "Maximum Likelihood Estimate: 0.14 | 0.1304801670146138\n"
     ]
    }
   ],
   "source": [
    "rounded = posterior.round(2)\n",
    "mode = rounded.mode()[0]\n",
    "probability = list(rounded).count(mode) / len(rounded)\n",
    "print(f'Maximum Likelihood Estimate: {mode} | {probability}')"
   ]
  },
  {
   "cell_type": "markdown",
   "metadata": {},
   "source": [
    "- Given the Maximum Likelihood Estimate, approximately 13 people out of 100 visits would be purchasing the service"
   ]
  },
  {
   "cell_type": "code",
   "execution_count": null,
   "metadata": {},
   "outputs": [],
   "source": []
  }
 ],
 "metadata": {
  "kernelspec": {
   "display_name": "Python 3",
   "language": "python",
   "name": "python3"
  },
  "language_info": {
   "codemirror_mode": {
    "name": "ipython",
    "version": 3
   },
   "file_extension": ".py",
   "mimetype": "text/x-python",
   "name": "python",
   "nbconvert_exporter": "python",
   "pygments_lexer": "ipython3",
   "version": "3.7.6"
  }
 },
 "nbformat": 4,
 "nbformat_minor": 2
}
